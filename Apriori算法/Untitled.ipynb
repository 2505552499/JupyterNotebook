{
 "cells": [
  {
   "cell_type": "code",
   "execution_count": 1,
   "id": "674c94f0",
   "metadata": {},
   "outputs": [],
   "source": [
    "import numpy as np"
   ]
  },
  {
   "cell_type": "code",
   "execution_count": 2,
   "id": "d3864a1f",
   "metadata": {},
   "outputs": [],
   "source": [
    "class Queue():\n",
    "    val = np.array([])\n",
    "    def __init__(self,value = np.array([])):\n",
    "        self.val = np.array(value)\n",
    "    def size(self):\n",
    "        return self.val.shape[0]\n",
    "    def push(self,x):\n",
    "        self.val = np.append(self.val,np.array([x]))\n",
    "    def pop(self):\n",
    "        if self.size()==0:\n",
    "            return None\n",
    "        else:\n",
    "            last_elem = self.val[0]\n",
    "            self.val = self.val[1:self.val.shape[0]]\n",
    "            return last_elem"
   ]
  },
  {
   "cell_type": "code",
   "execution_count": 3,
   "id": "7ed4a402",
   "metadata": {},
   "outputs": [],
   "source": [
    "def count_freq(dataset, combinations):\n",
    "    freqs = np.zeros(len(combinations))\n",
    "    for i in range(len(combinations)):\n",
    "        combin_i = combinations[i]\n",
    "        for item in dataset:\n",
    "            if item.issuperset(combin_i):\n",
    "                freqs[i] += 1\n",
    "            pass\n",
    "        pass\n",
    "    pass\n",
    "    freqs /= len(dataset)\n",
    "    return freqs"
   ]
  },
  {
   "cell_type": "code",
   "execution_count": 4,
   "id": "9fdfd416",
   "metadata": {},
   "outputs": [],
   "source": [
    "dataset = [\n",
    "    {'A','B','C','D'},\n",
    "    {'B','C','E'},\n",
    "    {'A','B','C','E'},\n",
    "    {'B','D','E'},\n",
    "    {'A','B','C','D'}\n",
    "]\n",
    "max_goods_id = 5\n",
    "qold = Queue(np.array([{i+1}for i in range(max_goods_id)]))\n",
    "qnew = Queue()\n",
    "high_freq = 0.4"
   ]
  },
  {
   "cell_type": "code",
   "execution_count": 5,
   "id": "7a223263",
   "metadata": {},
   "outputs": [
    {
     "name": "stdout",
     "output_type": "stream",
     "text": [
      "[]\n",
      "[]\n",
      "[]\n",
      "[]\n"
     ]
    }
   ],
   "source": [
    "#Apriori算法\n",
    "for _ in range(4):\n",
    "    freq = count_freq(dataset,qold.val.tolist())\n",
    "    qold.val = qold.val[np.where (freq>high_freq)]\n",
    "    print(qold.val)\n",
    "    qnew.val = qold.val\n",
    "    qold.val = np.array([])\n",
    "    \n",
    "    while qnew.size()>0:\n",
    "        tmpset = qnew.pop()\n",
    "        for i in range(qnew.size()):\n",
    "            qold.push(tmpset.union(qnew.val[i]))"
   ]
  }
 ],
 "metadata": {
  "kernelspec": {
   "display_name": "Python 3 (ipykernel)",
   "language": "python",
   "name": "python3"
  },
  "language_info": {
   "codemirror_mode": {
    "name": "ipython",
    "version": 3
   },
   "file_extension": ".py",
   "mimetype": "text/x-python",
   "name": "python",
   "nbconvert_exporter": "python",
   "pygments_lexer": "ipython3",
   "version": "3.8.8"
  }
 },
 "nbformat": 4,
 "nbformat_minor": 5
}
